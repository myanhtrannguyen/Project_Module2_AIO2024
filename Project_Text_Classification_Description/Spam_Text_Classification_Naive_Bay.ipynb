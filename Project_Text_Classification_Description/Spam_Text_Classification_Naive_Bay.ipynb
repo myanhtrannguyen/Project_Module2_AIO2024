{
 "cells": [
  {
   "cell_type": "markdown",
   "source": [
    "1. Import các thư viện cần thiết"
   ],
   "metadata": {
    "collapsed": false
   },
   "id": "5f6b775084865e6e"
  },
  {
   "cell_type": "code",
   "outputs": [],
   "source": [
    "import string\n",
    "import nltk\n",
    "nltk.download('stopwords')\n",
    "nltk.download('punkt')\n",
    "import pandas as pd\n",
    "import numpy as np\n",
    "import matplotlib.pyplot as plt\n",
    "\n",
    "from sklearn.model_selection import train_test_split\n",
    "from sklearn.naive_bayes import GaussianNB\n",
    "from sklearn.metrics import accuracy_score\n",
    "from sklearn.preprocessing import LabelEncoder"
   ],
   "metadata": {
    "collapsed": false
   },
   "id": "b0fc42bff3114361"
  },
  {
   "cell_type": "markdown",
   "source": [
    "2. Đọc bộ dữ liệu"
   ],
   "metadata": {
    "collapsed": false
   },
   "id": "eba45a1ca09225de"
  },
  {
   "cell_type": "markdown",
   "source": [
    "DATASET_PATH = '/content/2cls_spam_text_cls.csv'\n",
    "df = pd.read_csv(DATASET_PATH)"
   ],
   "metadata": {
    "collapsed": false
   },
   "id": "82cc9e361a979a5e"
  },
  {
   "cell_type": "code",
   "outputs": [],
   "source": [
    "messages = df['Message'].values.tolist()\n",
    "labels = df['Category'].values.tolist()"
   ],
   "metadata": {
    "collapsed": false
   },
   "id": "1afbf4d4ea607e5b"
  },
  {
   "cell_type": "markdown",
   "source": [
    "3. Chuẩn bị bộ dữ liệu"
   ],
   "metadata": {
    "collapsed": false
   },
   "id": "c27a710f99be6ab8"
  },
  {
   "cell_type": "markdown",
   "source": [
    "3.1. Xử lý dữ liệu nhãn"
   ],
   "metadata": {
    "collapsed": false
   },
   "id": "c6550271502d25cd"
  },
  {
   "cell_type": "code",
   "outputs": [],
   "source": [
    "le = LabelEncoder()\n",
    "y = le.fit_transform(labels)\n",
    "print(f'Classes: {le.classes_}')\n",
    "print(f'Encoded labels: {y}')"
   ],
   "metadata": {
    "collapsed": false
   },
   "id": "ba3cadf0a3942058"
  },
  {
   "cell_type": "markdown",
   "source": [
    "3.2. Xử lý dữ liệu đặc trưng"
   ],
   "metadata": {
    "collapsed": false
   },
   "id": "ab59e32041dc2c9c"
  },
  {
   "cell_type": "code",
   "outputs": [],
   "source": [
    "def lowercase(text):\n",
    "    return text.lower()\n",
    "\n",
    "def punctuation_removal(text):\n",
    "    translator = str.maketrans('', '', string.punctuation)\n",
    "\n",
    "    return text.translate(translator)\n",
    "\n",
    "def tokenize(text):\n",
    "    return nltk.word_tokenize(text)\n",
    "\n",
    "def remove_stopwords(tokens):\n",
    "    stop_words = nltk.corpus.stopwords.words('english')\n",
    "\n",
    "    return [token for token in tokens if token not in stop_words]\n",
    "\n",
    "def stemming(tokens):\n",
    "    stemmer = nltk.PorterStemmer()\n",
    "\n",
    "    return [stemmer.stem(token) for token in tokens]\n",
    "\n",
    "def preprocess_text(text):\n",
    "    text = lowercase(text)\n",
    "    text = punctuation_removal(text)\n",
    "    tokens = tokenize(text)\n",
    "    tokens = remove_stopwords(tokens)\n",
    "    tokens = stemming(tokens)\n",
    "\n",
    "    return tokens"
   ],
   "metadata": {
    "collapsed": false
   },
   "id": "deba990bbd01ece5"
  },
  {
   "cell_type": "code",
   "outputs": [],
   "source": [
    "messages = [preprocess_text(message) for message in messages]"
   ],
   "metadata": {
    "collapsed": false
   },
   "id": "ac8abb6f54df6128"
  },
  {
   "cell_type": "code",
   "outputs": [],
   "source": [
    "def create_dictionary(messages):\n",
    "    dictionary = []\n",
    "\n",
    "    for tokens in messages:\n",
    "        for token in tokens:\n",
    "            if token not in dictionary:\n",
    "                dictionary.append(token)\n",
    "\n",
    "    return dictionary\n",
    "\n",
    "def create_features(tokens, dictionary):\n",
    "    features = np.zeros(len(dictionary))\n",
    "\n",
    "    for token in tokens:\n",
    "        if token in dictionary:\n",
    "            features[dictionary.index(token)] += 1\n",
    "\n",
    "    return features"
   ],
   "metadata": {
    "collapsed": false
   },
   "id": "9098e097483a14d3"
  },
  {
   "cell_type": "code",
   "outputs": [],
   "source": [
    "dictionary = create_dictionary(messages)\n",
    "X = np.array([create_features(tokens, dictionary) for tokens in messages])"
   ],
   "metadata": {
    "collapsed": false
   },
   "id": "9db819b58a045389"
  },
  {
   "cell_type": "markdown",
   "source": [
    "3.3. Chia dữ liệu train/val/test"
   ],
   "metadata": {
    "collapsed": false
   },
   "id": "7185d1881c8e03d3"
  },
  {
   "cell_type": "code",
   "outputs": [],
   "source": [
    "VAL_SIZE = 0.2\n",
    "TEST_SIZE = 0.125\n",
    "SEED = 0\n",
    "\n",
    "X_train, X_val, y_train, y_val = train_test_split(X, y,test_size=VAL_SIZE,shuffle=True,random_state=SEED)\n",
    "X_train, X_test, y_train, y_test = train_test_split(X_train, y_train, test_size=TEST_SIZE, shuffle=True, random_state=SEED)"
   ],
   "metadata": {
    "collapsed": false
   },
   "id": "7e00402908094d30"
  },
  {
   "cell_type": "markdown",
   "source": [
    "4. Huấn luyện mô hình"
   ],
   "metadata": {
    "collapsed": false
   },
   "id": "a1d3b1a1b495a9cd"
  },
  {
   "cell_type": "code",
   "outputs": [],
   "source": [
    "%%time\n",
    "model = GaussianNB()\n",
    "print('Start training...')\n",
    "model = model.fit(X_train, y_train)\n",
    "print('Training completed!')"
   ],
   "metadata": {
    "collapsed": false
   },
   "id": "c0876d215372ad9f"
  },
  {
   "cell_type": "markdown",
   "source": [
    "5. Đánh giá mô hình"
   ],
   "metadata": {
    "collapsed": false
   },
   "id": "888e253bb4a34985"
  },
  {
   "cell_type": "code",
   "outputs": [],
   "source": [
    "y_val_pred = model.predict(X_val)\n",
    "y_test_pred = model.predict(X_test)\n",
    "val_accuracy = accuracy_score(y_val, y_val_pred)\n",
    "test_accuracy = accuracy_score(y_test, y_test_pred)\n",
    "print(f'Val accuracy: {val_accuracy}')\n",
    "print(f'Test accuracy: {test_accuracy}')"
   ],
   "metadata": {
    "collapsed": false
   },
   "id": "d406941315abd3e6"
  },
  {
   "cell_type": "markdown",
   "source": [
    "6. Thực hiện dự đoán"
   ],
   "metadata": {
    "collapsed": false
   },
   "id": "dd0e368ec95694ea"
  },
  {
   "cell_type": "code",
   "outputs": [],
   "source": [
    "def predict(text, model, dictionary):\n",
    "    processed_text = preprocess_text(text)\n",
    "    features = create_features(text, dictionary)\n",
    "    features = np.array(features).reshape(1, -1)\n",
    "    prediction = model.predict(features)\n",
    "    prediction_cls = le.inverse_transform(prediction)[0]\n",
    "\n",
    "    return prediction_cls"
   ],
   "metadata": {
    "collapsed": false
   },
   "id": "dcbd9264c782b54e"
  },
  {
   "cell_type": "code",
   "outputs": [],
   "source": [
    "test_input = 'I am actually thinking a way of doing something useful'\n",
    "prediction_cls = predict(test_input, model, dictionary)\n",
    "print(f'Prediction: {prediction_cls}')"
   ],
   "metadata": {
    "collapsed": false
   },
   "id": "6560d5fb645cbc16"
  }
 ],
 "metadata": {
  "kernelspec": {
   "display_name": "Python 3",
   "language": "python",
   "name": "python3"
  },
  "language_info": {
   "codemirror_mode": {
    "name": "ipython",
    "version": 2
   },
   "file_extension": ".py",
   "mimetype": "text/x-python",
   "name": "python",
   "nbconvert_exporter": "python",
   "pygments_lexer": "ipython2",
   "version": "2.7.6"
  }
 },
 "nbformat": 4,
 "nbformat_minor": 5
}
