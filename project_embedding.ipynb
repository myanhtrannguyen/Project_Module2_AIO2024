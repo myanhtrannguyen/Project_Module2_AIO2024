{
 "cells": [
  {
   "cell_type": "code",
   "execution_count": null,
   "id": "initial_id",
   "metadata": {
    "collapsed": true
   },
   "outputs": [],
   "source": [
    "import os\n",
    "import numpy as np\n",
    "from PIL import Image\n",
    "import matplotlib.pyplot as plt\n",
    "from chromadb.utils.embedding_functions import OpenCLIPEmbeddingFunction"
   ]
  },
  {
   "cell_type": "markdown",
   "source": [
    "Get Data"
   ],
   "metadata": {
    "collapsed": false
   },
   "id": "abf3632e8e020da"
  },
  {
   "cell_type": "markdown",
   "source": [
    "Tạo list các đường dẫn cho ảnh lấy embedding và được đưa vào database"
   ],
   "metadata": {
    "collapsed": false
   },
   "id": "cbf24649eeef2a5c"
  },
  {
   "cell_type": "markdown",
   "source": [
    "dic_categories change to class_name"
   ],
   "metadata": {
    "collapsed": false
   },
   "id": "5bb3ef80ba239b9d"
  },
  {
   "cell_type": "code",
   "outputs": [],
   "source": [
    "ROOT = 'data'\n",
    "CLASS_NAME = sorted(list(os.listdir(f'{ROOT}/train')))"
   ],
   "metadata": {
    "collapsed": false
   },
   "id": "fc7f6737e9a716ed"
  },
  {
   "cell_type": "code",
   "outputs": [],
   "source": [
    "embedding_function = OpenCLIPEmbeddingFunction()\n",
    "\n",
    "def get_single_image_embedding(image):\n",
    "    embedding = embedding_function._encode_image(image=image)\n",
    "    return np.array(embedding)"
   ],
   "metadata": {
    "collapsed": false
   },
   "id": "e1e2c49d575f9638"
  },
  {
   "cell_type": "code",
   "outputs": [],
   "source": [
    "def read_image_from_path(path, size):\n",
    "    im = Image.open(path).convert('RGB').resize(size)\n",
    "    return np.array(im)\n",
    "\n",
    "# MODIFY\n",
    "def folder_to_images(folder, size):\n",
    "\n",
    "    list_dir = [folder + '/' + name for name in os.listdir(folder)]\n",
    "\n",
    "    images_np = np.zeros(shape=(len(list_dir), *size, 3))\n",
    "    images_path = []\n",
    "    for i, path in enumerate(list_dir):\n",
    "        images_np[i] = read_image_from_path(path, size)\n",
    "        images_path.append(path)\n",
    "\n",
    "    images_path = np.array(images_path)\n",
    "    return images_np, images_path"
   ],
   "metadata": {
    "collapsed": false
   },
   "id": "4933d0b22e1be444"
  },
  {
   "cell_type": "code",
   "outputs": [],
   "source": [
    "def plot_results(querquery_pathy, ls_path_score, reverse):\n",
    "    fig = plt.figure(figsize=(15, 9))\n",
    "    fig.add_subplot(2, 3, 1)\n",
    "    plt.imshow(read_image_from_path(querquery_pathy, size=(448,448)))\n",
    "    plt.title(f\"Query Image: {querquery_pathy.split('/')[2]}\", fontsize=16)\n",
    "    plt.axis(\"off\")\n",
    "    for i, path in enumerate(sorted(ls_path_score, key=lambda x : x[1], reverse=reverse)[:5], 2):\n",
    "        fig.add_subplot(2, 3, i)\n",
    "        plt.imshow(read_image_from_path(path[0], size=(448,448)))\n",
    "        plt.title(f\"Top {i-1}: {path[0].split('/')[2]}\", fontsize=16)\n",
    "        plt.axis(\"off\")\n",
    "    plt.show()"
   ],
   "metadata": {
    "collapsed": false
   },
   "id": "247bf025dec5da2d"
  },
  {
   "cell_type": "markdown",
   "source": [
    "Absolute Difference"
   ],
   "metadata": {
    "collapsed": false
   },
   "id": "87672838472f0f60"
  },
  {
   "cell_type": "code",
   "outputs": [],
   "source": [
    "def absolute_difference(query, data):\n",
    "    axis_batch_size = tuple(range(1,len(data.shape)))\n",
    "    return np.sum(np.abs(data - query), axis=axis_batch_size)"
   ],
   "metadata": {
    "collapsed": false
   },
   "id": "a6af3dd800ff8ab7"
  },
  {
   "cell_type": "code",
   "outputs": [],
   "source": [
    "def get_l1_score(root_img_path, query_path, size):\n",
    "    query = read_image_from_path(query_path, size)\n",
    "    query_embedding = get_single_image_embedding(query)\n",
    "    ls_path_score = []\n",
    "    for folder in os.listdir(root_img_path):\n",
    "        if folder in CLASS_NAME:\n",
    "            path = root_img_path + folder\n",
    "            images_np, images_path = folder_to_images(path, size) # mang numpy nhieu anh, paths\n",
    "            embedding_list = []\n",
    "            for idx_img in range(images_np.shape[0]):\n",
    "                embedding = get_single_image_embedding(images_np[idx_img].astype(np.uint8))\n",
    "                embedding_list.append(embedding)\n",
    "            rates = absolute_difference(query_embedding, np.stack(embedding_list))\n",
    "            ls_path_score.extend(list(zip(images_path, rates)))\n",
    "    return query, ls_path_score"
   ],
   "metadata": {
    "collapsed": false
   },
   "id": "455a74733a38392c"
  },
  {
   "cell_type": "code",
   "outputs": [],
   "source": [
    "root_img_path = f\"{ROOT}/train/\"\n",
    "query_path = f\"{ROOT}/test/Orange_easy/0_100.jpg\"\n",
    "size = (448, 448)\n",
    "query, ls_path_score = get_l1_score(root_img_path, query_path, size)\n",
    "plot_results(query_path, ls_path_score, reverse=False)"
   ],
   "metadata": {
    "collapsed": false
   },
   "id": "e7b95ee5f022073a"
  },
  {
   "cell_type": "code",
   "outputs": [],
   "source": [
    "root_img_path = f\"{ROOT}/train/\"\n",
    "query_path = f\"{ROOT}/test/African_crocodile/n01697457_18534.JPEG\"\n",
    "size = (448, 448)\n",
    "query, ls_path_score = get_l1_score(root_img_path, query_path, size)\n",
    "plot_results(query_path, ls_path_score, reverse=False)"
   ],
   "metadata": {
    "collapsed": false
   },
   "id": "411608c136ef7c70"
  },
  {
   "cell_type": "code",
   "outputs": [],
   "source": [
    "sorted(ls_path_score, key=lambda x: x[1])"
   ],
   "metadata": {
    "collapsed": false
   },
   "id": "471186d280f59a6e"
  },
  {
   "cell_type": "markdown",
   "source": [
    "Mean Square Difference"
   ],
   "metadata": {
    "collapsed": false
   },
   "id": "6bfa7bc4be4d7e9f"
  },
  {
   "cell_type": "code",
   "outputs": [],
   "source": [
    "def mean_square_difference(query, data):\n",
    "    axis_batch_size = tuple(range(1,len(data.shape)))\n",
    "    return np.mean((data - query)**2, axis=axis_batch_size)"
   ],
   "metadata": {
    "collapsed": false
   },
   "id": "fd72600ff79c2bce"
  },
  {
   "cell_type": "code",
   "outputs": [],
   "source": [
    "def get_l2_score(root_img_path, query_path, size):\n",
    "    query = read_image_from_path(query_path, size)\n",
    "    query_embedding = get_single_image_embedding(query)\n",
    "    ls_path_score = []\n",
    "    for folder in os.listdir(root_img_path):\n",
    "        if folder in CLASS_NAME:\n",
    "            path = root_img_path + folder\n",
    "            images_np, images_path = folder_to_images(path, size) # mang numpy nhieu anh, paths\n",
    "            embedding_list = []\n",
    "            for idx_img in range(images_np.shape[0]):\n",
    "                embedding = get_single_image_embedding(images_np[idx_img].astype(np.uint8))\n",
    "                embedding_list.append(embedding)\n",
    "            rates = mean_square_difference(query_embedding, np.stack(embedding_list))\n",
    "            ls_path_score.extend(list(zip(images_path, rates)))\n",
    "    return query, ls_path_score"
   ],
   "metadata": {
    "collapsed": false
   },
   "id": "47aa60fe479d2aa9"
  },
  {
   "cell_type": "code",
   "outputs": [],
   "source": [
    "root_img_path = f\"{ROOT}/train/\"\n",
    "query_path = f\"{ROOT}/test/Orange_easy/0_100.jpg\"\n",
    "size = (448, 448)\n",
    "query, ls_path_score = get_l2_score(root_img_path, query_path, size)\n",
    "plot_results(query_path, ls_path_score, reverse=False)"
   ],
   "metadata": {
    "collapsed": false
   },
   "id": "eb7e26f928903e37"
  },
  {
   "cell_type": "code",
   "outputs": [],
   "source": [
    "root_img_path = f\"{ROOT}/train/\"\n",
    "query_path = f\"{ROOT}/test/African_crocodile/n01697457_18534.JPEG\"\n",
    "size = (448, 448)\n",
    "query, ls_path_score = get_l2_score(root_img_path, query_path, size)\n",
    "plot_results(query_path, ls_path_score, reverse=False)"
   ],
   "metadata": {
    "collapsed": false
   },
   "id": "913ab98527fd76d3"
  },
  {
   "cell_type": "code",
   "outputs": [],
   "source": [
    "sorted(ls_path_score, key=lambda x: x[1])"
   ],
   "metadata": {
    "collapsed": false
   },
   "id": "15d013826fdfd9d3"
  },
  {
   "cell_type": "markdown",
   "source": [
    "Cosine Similarity"
   ],
   "metadata": {
    "collapsed": false
   },
   "id": "69fc0472fbf4c138"
  },
  {
   "cell_type": "code",
   "outputs": [],
   "source": [
    "def cosine_similarity(query, data):\n",
    "    axis_batch_size = tuple(range(1,len(data.shape)))\n",
    "    # Ứng dụng norm\n",
    "    query_norm = np.sqrt(np.sum(query**2))\n",
    "    data_norm = np.sqrt(np.sum(data**2, axis=axis_batch_size))\n",
    "    return np.sum(data * query, axis=axis_batch_size) / (query_norm*data_norm + np.finfo(float).eps)"
   ],
   "metadata": {
    "collapsed": false
   },
   "id": "a9c541739964823f"
  },
  {
   "cell_type": "code",
   "outputs": [],
   "source": [
    "def get_cosine_similarity_score(root_img_path, query_path, size):\n",
    "    query = read_image_from_path(query_path, size)\n",
    "    query_embedding = get_single_image_embedding(query)\n",
    "    ls_path_score = []\n",
    "    for folder in os.listdir(root_img_path):\n",
    "        if folder in CLASS_NAME:\n",
    "            path = root_img_path + folder\n",
    "            images_np, images_path = folder_to_images(path, size) # mang numpy nhieu anh, paths\n",
    "            embedding_list = []\n",
    "            for idx_img in range(images_np.shape[0]):\n",
    "                embedding = get_single_image_embedding(images_np[idx_img].astype(np.uint8))\n",
    "                embedding_list.append(embedding)\n",
    "            rates = cosine_similarity(query_embedding, np.stack(embedding_list))\n",
    "            ls_path_score.extend(list(zip(images_path, rates)))\n",
    "    return query, ls_path_score"
   ],
   "metadata": {
    "collapsed": false
   },
   "id": "eddfe0505bad724f"
  },
  {
   "cell_type": "code",
   "outputs": [],
   "source": [
    "root_img_path = f\"{ROOT}/train/\"\n",
    "query_path = f\"{ROOT}/test/Orange_easy/0_100.jpg\"\n",
    "size = (448, 448)\n",
    "query, ls_path_score = get_cosine_similarity_score(root_img_path, query_path, size)\n",
    "plot_results(query_path, ls_path_score, reverse=True)"
   ],
   "metadata": {
    "collapsed": false
   },
   "id": "33ecb988cbfc07f7"
  },
  {
   "cell_type": "code",
   "outputs": [],
   "source": [
    "root_img_path = f\"{ROOT}/train/\"\n",
    "query_path = f\"{ROOT}/test/African_crocodile/n01697457_18534.JPEG\"\n",
    "size = (448, 448)\n",
    "query, ls_path_score = get_cosine_similarity_score(root_img_path, query_path, size)\n",
    "plot_results(query_path, ls_path_score, reverse=True)"
   ],
   "metadata": {
    "collapsed": false
   },
   "id": "b1e75d3ed96ee383"
  },
  {
   "cell_type": "code",
   "outputs": [],
   "source": [
    "sorted(ls_path_score, key=lambda x: x[1], reverse=True)"
   ],
   "metadata": {
    "collapsed": false
   },
   "id": "c690a4ad9bb48590"
  },
  {
   "cell_type": "markdown",
   "source": [
    "Correlation Coefficient"
   ],
   "metadata": {
    "collapsed": false
   },
   "id": "133095a2bf292ccc"
  },
  {
   "cell_type": "code",
   "outputs": [],
   "source": [
    "def correlation_coefficient(query, data):\n",
    "    axis_batch_size = tuple(range(1,len(data.shape)))\n",
    "\n",
    "    # Ứng dụng mean\n",
    "    query_mean = query - np.mean(query)\n",
    "    data_mean = data - np.mean(data, axis=axis_batch_size, keepdims=True)\n",
    "\n",
    "    # Ứng dụng norm\n",
    "    query_norm = np.sqrt(np.sum(query_mean**2))\n",
    "    data_norm = np.sqrt(np.sum(data_mean**2, axis=axis_batch_size))\n",
    "\n",
    "    return np.sum(data_mean * query_mean, axis=axis_batch_size) / (query_norm*data_norm + np.finfo(float).eps)"
   ],
   "metadata": {
    "collapsed": false
   },
   "id": "37c5bd81de94ab67"
  },
  {
   "cell_type": "code",
   "outputs": [],
   "source": [
    "def get_correlation_coefficient_score(root_img_path, query_path, size):\n",
    "    query = read_image_from_path(query_path, size)\n",
    "    query_embedding = get_single_image_embedding(query)\n",
    "    ls_path_score = []\n",
    "    for folder in os.listdir(root_img_path):\n",
    "        if folder in CLASS_NAME:\n",
    "            path = root_img_path + folder\n",
    "            images_np, images_path = folder_to_images(path, size) # mang numpy nhieu anh, paths\n",
    "            embedding_list = []\n",
    "            for idx_img in range(images_np.shape[0]):\n",
    "                embedding = get_single_image_embedding(images_np[idx_img].astype(np.uint8))\n",
    "                embedding_list.append(embedding)\n",
    "            rates = correlation_coefficient(query_embedding, np.stack(embedding_list))\n",
    "            ls_path_score.extend(list(zip(images_path, rates)))\n",
    "    return query, ls_path_score"
   ],
   "metadata": {
    "collapsed": false
   },
   "id": "cf2682af15c2e193"
  },
  {
   "cell_type": "code",
   "outputs": [],
   "source": [
    "root_img_path = \"data/train/\"\n",
    "query_path = \"data/test/Orange_easy/0_100.jpg\"\n",
    "size = (448, 448)\n",
    "query, ls_path_score = get_correlation_coefficient_score(root_img_path, query_path, size)\n",
    "plot_results(query_path, ls_path_score, reverse=True)"
   ],
   "metadata": {
    "collapsed": false
   },
   "id": "9f367f4425069c8c"
  },
  {
   "cell_type": "code",
   "outputs": [],
   "source": [
    "root_img_path = \"data/train/\"\n",
    "query_path = \"data/test/African_crocodile/n01697457_18534.JPEG\"\n",
    "size = (448, 448)\n",
    "query, ls_path_score = get_correlation_coefficient_score(root_img_path, query_path, size)\n",
    "plot_results(query_path, ls_path_score, reverse=True)"
   ],
   "metadata": {
    "collapsed": false
   },
   "id": "d86846d78b6c12bf"
  },
  {
   "cell_type": "code",
   "outputs": [],
   "source": [
    "sorted(ls_path_score, key=lambda x: x[1], reverse=True)"
   ],
   "metadata": {
    "collapsed": false
   },
   "id": "a1604d0119ddf7c2"
  }
 ],
 "metadata": {
  "kernelspec": {
   "display_name": "Python 3",
   "language": "python",
   "name": "python3"
  },
  "language_info": {
   "codemirror_mode": {
    "name": "ipython",
    "version": 2
   },
   "file_extension": ".py",
   "mimetype": "text/x-python",
   "name": "python",
   "nbconvert_exporter": "python",
   "pygments_lexer": "ipython2",
   "version": "2.7.6"
  }
 },
 "nbformat": 4,
 "nbformat_minor": 5
}
