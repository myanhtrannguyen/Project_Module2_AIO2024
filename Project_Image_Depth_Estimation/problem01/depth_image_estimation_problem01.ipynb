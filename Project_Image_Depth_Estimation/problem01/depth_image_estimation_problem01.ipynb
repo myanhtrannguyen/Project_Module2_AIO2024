{
 "cells": [
  {
   "cell_type": "markdown",
   "source": [
    "1. Cài đặt thuật toán"
   ],
   "metadata": {
    "collapsed": false
   },
   "id": "c086eede77cdb765"
  },
  {
   "cell_type": "code",
   "outputs": [],
   "source": [
    "import cv2\n",
    "import numpy as np\n",
    "from google.colab.patches import cv2_imshow"
   ],
   "metadata": {
    "collapsed": false
   },
   "id": "1b9d33da71177f5b"
  },
  {
   "cell_type": "code",
   "outputs": [],
   "source": [
    "def l1_distance(x, y):\n",
    "    return abs(x - y)\n",
    "\n",
    "def l2_distance(x, y):\n",
    "    return (x - y) ** 2"
   ],
   "metadata": {
    "collapsed": false
   },
   "id": "2a4990de2e03cb2f"
  },
  {
   "cell_type": "code",
   "outputs": [],
   "source": [
    "left_img_path = 'tsukuba/left.png'\n",
    "right_img_path = 'tsukuba/right.png'\n",
    "disparity_range = 16\n",
    "\n",
    "left = cv2.imread(left_img_path)\n",
    "right = cv2.imread(right_img_path)\n",
    "\n",
    "cv2_imshow(left)\n",
    "cv2_imshow(right)"
   ],
   "metadata": {
    "collapsed": false
   },
   "id": "a13862431291603c"
  },
  {
   "cell_type": "code",
   "outputs": [],
   "source": [
    "def pixel_wise_matching_l1(left_img, right_img, disparity_range, save_result=True):\n",
    "    # Read left, right images then convert to grayscale\n",
    "    left  = cv2.imread(left_img, 0)\n",
    "    right = cv2.imread(right_img, 0)\n",
    "\n",
    "    left  = left.astype(np.float32)\n",
    "    right = right.astype(np.float32)\n",
    "\n",
    "    height, width = left.shape[:2]\n",
    "\n",
    "    # Create blank disparity map\n",
    "    depth = np.zeros((height, width), np.uint8)\n",
    "    scale = 16\n",
    "    max_value = 255\n",
    "\n",
    "    for y in range(height):\n",
    "        for x in range(width):\n",
    "            # Find j where cost has minimum value\n",
    "            disparity = 0\n",
    "            cost_min  = max_value\n",
    "\n",
    "            for j in range(disparity_range):\n",
    "                cost = max_value if (x - j) < 0 \\\n",
    "                                else l1_distance(int(left[y, x]), int(right[y, x - j]))\n",
    "\n",
    "                if cost < cost_min:\n",
    "                    cost_min  = cost\n",
    "                    disparity = j\n",
    "\n",
    "            # Let depth at (y, x) = j (disparity)\n",
    "            # Multiply by a scale factor for visualization purpose\n",
    "            depth[y, x] = disparity * scale\n",
    "\n",
    "    if save_result == True:\n",
    "        print('Saving result...')\n",
    "        # Save results\n",
    "        cv2.imwrite(f'pixel_wise_l1.png', depth)\n",
    "        cv2.imwrite(f'pixel_wise_l1_color.png', cv2.applyColorMap(depth, cv2.COLORMAP_JET))\n",
    "\n",
    "    print('Done.')\n",
    "\n",
    "    return depth, cv2.applyColorMap(depth, cv2.COLORMAP_JET)"
   ],
   "metadata": {
    "collapsed": false
   },
   "id": "a7211b617c5fbc21"
  },
  {
   "cell_type": "code",
   "outputs": [],
   "source": [
    "# L1 result\n",
    "depth, color = pixel_wise_matching_l1(\n",
    "    left_img_path,\n",
    "    right_img_path,\n",
    "    disparity_range,\n",
    "    save_result=True\n",
    ")\n",
    "cv2_imshow(depth)\n",
    "cv2_imshow(color)"
   ],
   "metadata": {
    "collapsed": false
   },
   "id": "aa5a62555516421b"
  },
  {
   "cell_type": "code",
   "outputs": [],
   "source": [
    "def pixel_wise_matching_l2(left_img, right_img, disparity_range, save_result=True):\n",
    "    # Read left, right images then convert to grayscale\n",
    "    left  = cv2.imread(left_img, 0)\n",
    "    right = cv2.imread(right_img, 0)\n",
    "\n",
    "    left  = left.astype(np.float32)\n",
    "    right = right.astype(np.float32)\n",
    "\n",
    "    height, width = left.shape[:2]\n",
    "\n",
    "    # Create blank disparity map\n",
    "    depth = np.zeros((height, width), np.uint8)\n",
    "    scale = 16\n",
    "    max_value = 255 ** 2\n",
    "\n",
    "    for y in range(height):\n",
    "        for x in range(width):\n",
    "            # Find j where cost has minimum value\n",
    "            disparity = 0\n",
    "            cost_min  = max_value\n",
    "\n",
    "            for j in range(disparity_range):\n",
    "                cost = max_value if (x - j) < 0 else l2_distance(int(left[y, x]), int(right[y, x - j]))\n",
    "\n",
    "                if cost < cost_min:\n",
    "                    cost_min  = cost\n",
    "                    disparity = j\n",
    "\n",
    "            # Let depth at (y, x) = j (disparity)\n",
    "            # Multiply by a scale factor for visualization purpose\n",
    "            depth[y, x] = disparity * scale\n",
    "\n",
    "    if save_result == True:\n",
    "        print('Saving result...')\n",
    "        # Save results\n",
    "        cv2.imwrite(f'pixel_wise_l2.png', depth)\n",
    "        cv2.imwrite(f'pixel_wise_l2_color.png', cv2.applyColorMap(depth, cv2.COLORMAP_JET))\n",
    "\n",
    "    print('Done.')\n",
    "\n",
    "    return depth"
   ],
   "metadata": {
    "collapsed": false
   },
   "id": "4a2eceb87a295a4f"
  },
  {
   "cell_type": "code",
   "outputs": [],
   "source": [
    "left_img_path = 'tsukuba/left.png'\n",
    "right_img_path = 'tsukuba/right.png'\n",
    "disparity_range = 16\n",
    "\n",
    "left = cv2.imread(left_img_path)\n",
    "right = cv2.imread(right_img_path)\n",
    "\n",
    "cv2_imshow(left)\n",
    "cv2_imshow(right)"
   ],
   "metadata": {
    "collapsed": false
   },
   "id": "3535595f08da3478"
  },
  {
   "cell_type": "code",
   "outputs": [],
   "source": [
    "# L1 result\n",
    "depth = pixel_wise_matching_l1(\n",
    "    left_img_path,\n",
    "    right_img_path,\n",
    "    disparity_range,\n",
    "    save_result=True\n",
    ")\n",
    "cv2_imshow(depth)"
   ],
   "metadata": {
    "collapsed": false
   },
   "id": "453f07f8bc94acaa"
  },
  {
   "cell_type": "code",
   "outputs": [],
   "source": [
    "# L2 result\n",
    "depth = pixel_wise_matching_l2(\n",
    "    left_img_path,\n",
    "    right_img_path,\n",
    "    disparity_range,\n",
    "    save_result=True\n",
    ")\n",
    "cv2_imshow(depth)"
   ],
   "metadata": {
    "collapsed": false
   },
   "id": "43974f7d3ac74026"
  }
 ],
 "metadata": {
  "kernelspec": {
   "display_name": "Python 3",
   "language": "python",
   "name": "python3"
  },
  "language_info": {
   "codemirror_mode": {
    "name": "ipython",
    "version": 2
   },
   "file_extension": ".py",
   "mimetype": "text/x-python",
   "name": "python",
   "nbconvert_exporter": "python",
   "pygments_lexer": "ipython2",
   "version": "2.7.6"
  }
 },
 "nbformat": 4,
 "nbformat_minor": 5
}
