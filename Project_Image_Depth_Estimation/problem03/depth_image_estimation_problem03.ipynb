{
 "cells": [
  {
   "cell_type": "markdown",
   "source": [
    "1. Cài đặt thuật toán"
   ],
   "metadata": {
    "collapsed": false
   },
   "id": "96285d3e1f20ed4a"
  },
  {
   "cell_type": "code",
   "outputs": [],
   "source": [
    "import cv2\n",
    "import numpy as np\n",
    "from google.colab.patches import cv2_imshow"
   ],
   "metadata": {
    "collapsed": false
   },
   "id": "b580354425f82dd3"
  },
  {
   "cell_type": "code",
   "outputs": [],
   "source": [
    "def l1_distance(x, y):\n",
    "    return abs(x - y)\n",
    "\n",
    "def l2_distance(x, y):\n",
    "    return (x - y) ** 2"
   ],
   "metadata": {
    "collapsed": false
   },
   "id": "91134ff9716d0ad4"
  },
  {
   "cell_type": "code",
   "outputs": [],
   "source": [
    "def window_based_matching_l1(left_img, right_img, disparity_range, kernel_size=5, save_result=True):\n",
    "    # Read left, right images then convert to grayscale\n",
    "    left  = cv2.imread(left_img, 0)\n",
    "    right = cv2.imread(right_img, 0)\n",
    "\n",
    "    left  = left.astype(np.float32)\n",
    "    right = right.astype(np.float32)\n",
    "\n",
    "    height, width = left.shape[:2]\n",
    "\n",
    "    # Create blank disparity map\n",
    "    depth = np.zeros((height, width), np.uint8)\n",
    "\n",
    "    kernel_half = int((kernel_size - 1) / 2)\n",
    "    scale = 3\n",
    "    max_value = 255 * 9\n",
    "\n",
    "    for y in range(kernel_half, height-kernel_half + 1):\n",
    "        for x in range(kernel_half, width-kernel_half + 1):\n",
    "\n",
    "            # Find j where cost has minimum value\n",
    "            disparity = 0\n",
    "            cost_min  = 65534\n",
    "\n",
    "            for j in range(disparity_range):\n",
    "                total = 0\n",
    "                value = 0\n",
    "\n",
    "                for v in range(-kernel_half, kernel_half):\n",
    "                    for u in range(-kernel_half, kernel_half):\n",
    "                        value = max_value\n",
    "                        if (x + u - j) >= 0:\n",
    "                            value = l1_distance(int(left[y + v, x + u]),  int(right[y + v, (x + u) - j]))\n",
    "                        total += value\n",
    "\n",
    "                if total < cost_min:\n",
    "                    cost_min = total\n",
    "                    disparity = j\n",
    "\n",
    "            # Let depth at (y, x) = j (disparity)\n",
    "            # Multiply by a scale factor for visualization purpose\n",
    "            depth[y, x] = disparity * scale\n",
    "\n",
    "    if save_result == True:\n",
    "        print('Saving result...')\n",
    "        # Save results\n",
    "        cv2.imwrite(f'window_based_l1.png', depth)\n",
    "        cv2.imwrite(f'window_based_l1_color.png', cv2.applyColorMap(depth, cv2.COLORMAP_JET))\n",
    "\n",
    "    print('Done.')\n",
    "\n",
    "    return depth"
   ],
   "metadata": {
    "collapsed": false
   },
   "id": "8de009de3c4c6bf2"
  },
  {
   "cell_type": "code",
   "outputs": [],
   "source": [
    "def window_based_matching_l2(left_img, right_img, disparity_range, kernel_size=5, save_result=True):\n",
    "    # Read left, right images then convert to grayscale\n",
    "    left  = cv2.imread(left_img, 0)\n",
    "    right = cv2.imread(right_img, 0)\n",
    "\n",
    "    left  = left.astype(np.float32)\n",
    "    right = right.astype(np.float32)\n",
    "\n",
    "    height, width = left.shape[:2]\n",
    "\n",
    "    # Create blank disparity map\n",
    "    depth = np.zeros((height, width), np.uint8)\n",
    "\n",
    "    kernel_half = int((kernel_size - 1) / 2)\n",
    "    scale = 3\n",
    "    max_value = 255 ** 2\n",
    "\n",
    "    for y in range(kernel_half, height-kernel_half):\n",
    "        for x in range(kernel_half, width-kernel_half):\n",
    "\n",
    "            # Find j where cost has minimum value\n",
    "            disparity = 0\n",
    "            cost_min  = 65534\n",
    "\n",
    "            for j in range(disparity_range):\n",
    "                total = 0\n",
    "                value = 0\n",
    "\n",
    "                for v in range(-kernel_half, kernel_half + 1):\n",
    "                    for u in range(-kernel_half, kernel_half + 1):\n",
    "                        value = max_value\n",
    "                        if (x + u - j) >= 0:\n",
    "                            value = l2_distance(int(left[y + v, x + u]),  int(right[y + v, (x + u) - j]))\n",
    "                        total += value\n",
    "\n",
    "                if total < cost_min:\n",
    "                    cost_min = total\n",
    "                    disparity = j\n",
    "\n",
    "            # Let depth at (y, x) = j (disparity)\n",
    "            # Multiply by a scale factor for visualization purpose\n",
    "            depth[y, x] = disparity * scale\n",
    "\n",
    "    if save_result == True:\n",
    "        print('Saving result...')\n",
    "        # Save results\n",
    "        cv2.imwrite(f'window_based_l2.png', depth)\n",
    "        cv2.imwrite(f'window_based_l2_color.png', cv2.applyColorMap(depth, cv2.COLORMAP_JET))\n",
    "\n",
    "    print('Done.')\n",
    "\n",
    "    return depth"
   ],
   "metadata": {
    "collapsed": false
   },
   "id": "2b205dc01e091899"
  },
  {
   "cell_type": "code",
   "outputs": [],
   "source": [
    "left_img_path = 'Aloe/Aloe_left_1.png'\n",
    "right_img_path = 'Aloe/Aloe_right_2.png'\n",
    "disparity_range = 64\n",
    "kernel_size = 5\n",
    "\n",
    "left = cv2.imread(left_img_path)\n",
    "right = cv2.imread(right_img_path)\n",
    "\n",
    "cv2_imshow(left)\n",
    "cv2_imshow(right)"
   ],
   "metadata": {
    "collapsed": false
   },
   "id": "94f95f299b2b8a7a"
  },
  {
   "cell_type": "code",
   "outputs": [],
   "source": [
    "depth = window_based_matching_l1(\n",
    "    left_img_path,\n",
    "    right_img_path,\n",
    "    disparity_range,\n",
    "    kernel_size=kernel_size,\n",
    "    save_result=False\n",
    ")\n",
    "cv2_imshow(depth)\n",
    "cv2_imshow(cv2.applyColorMap(depth, cv2.COLORMAP_JET))"
   ],
   "metadata": {
    "collapsed": false
   },
   "id": "d30573690b0d3c29"
  },
  {
   "cell_type": "code",
   "outputs": [],
   "source": [
    "depth = window_based_matching_l2(\n",
    "    left_img_path,\n",
    "    right_img_path,\n",
    "    disparity_range,\n",
    "    kernel_size=kernel_size,\n",
    "    save_result=False\n",
    ")\n",
    "cv2_imshow(depth)\n",
    "cv2_imshow(cv2.applyColorMap(depth, cv2.COLORMAP_JET))"
   ],
   "metadata": {
    "collapsed": false
   },
   "id": "9a13f15397266dfd"
  },
  {
   "cell_type": "markdown",
   "source": [
    "Note: Độ đo L1 và L2 không có tính chất 'invariant to linear changes' (như cosine similarity và correlation coefficient). Do đó, L1 L2 sẽ không thể hoạt động tốt với hai ảnh cùng nội dung nhưng có một chút khác biệt liên quan đến độ sáng..."
   ],
   "metadata": {
    "collapsed": false
   },
   "id": "80eaa04c66ce576a"
  }
 ],
 "metadata": {
  "kernelspec": {
   "display_name": "Python 3",
   "language": "python",
   "name": "python3"
  },
  "language_info": {
   "codemirror_mode": {
    "name": "ipython",
    "version": 2
   },
   "file_extension": ".py",
   "mimetype": "text/x-python",
   "name": "python",
   "nbconvert_exporter": "python",
   "pygments_lexer": "ipython2",
   "version": "2.7.6"
  }
 },
 "nbformat": 4,
 "nbformat_minor": 5
}
