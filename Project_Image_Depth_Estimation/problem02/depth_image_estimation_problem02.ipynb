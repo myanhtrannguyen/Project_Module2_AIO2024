{
 "cells": [
  {
   "cell_type": "markdown",
   "source": [
    "1. Cài đặt thuật toán"
   ],
   "metadata": {
    "collapsed": false
   },
   "id": "e1399bea64e3ea8c"
  },
  {
   "cell_type": "code",
   "outputs": [],
   "source": [
    "import cv2\n",
    "import numpy as np\n",
    "from google.colab.patches import cv2_imshow"
   ],
   "metadata": {
    "collapsed": false
   },
   "id": "67a4470b4117fbaf"
  },
  {
   "cell_type": "code",
   "outputs": [],
   "source": [
    "def l1_distance(x, y):\n",
    "    return abs(x - y)\n",
    "\n",
    "def l2_distance(x, y):\n",
    "    return (x - y) ** 2"
   ],
   "metadata": {
    "collapsed": false
   },
   "id": "dee4926a0d40dbf"
  },
  {
   "cell_type": "code",
   "outputs": [],
   "source": [
    "def window_based_matching_l1(left_img, right_img, disparity_range, kernel_size=5, save_result=True):\n",
    "    # Read left, right images then convert to grayscale\n",
    "    left  = cv2.imread(left_img, 0)\n",
    "    right = cv2.imread(right_img, 0)\n",
    "\n",
    "    left  = left.astype(np.float32)\n",
    "    right = right.astype(np.float32)\n",
    "\n",
    "    height, width = left.shape[:2]\n",
    "\n",
    "    # Create blank disparity map\n",
    "    depth = np.zeros((height, width), np.uint8)\n",
    "\n",
    "    kernel_half = int((kernel_size - 1) / 2)\n",
    "    scale = 3\n",
    "    max_value = 255 * 9\n",
    "\n",
    "    for y in range(kernel_half, height - kernel_half):\n",
    "        for x in range(kernel_half, width - kernel_half):\n",
    "            # Find j where cost has minimum value\n",
    "            disparity = 0\n",
    "            cost_min  = 65534\n",
    "\n",
    "            for j in range(disparity_range):\n",
    "                total = 0\n",
    "                value = 0\n",
    "\n",
    "                for v in range(-kernel_half, kernel_half + 1):\n",
    "                    for u in range(-kernel_half, kernel_half + 1):\n",
    "                        value = max_value\n",
    "                        if (x + u - j) >= 0:\n",
    "                            value = l1_distance(\n",
    "                                int(left[y + v, x + u]), int(right[y + v, (x + u) - j]))\n",
    "                        total += value\n",
    "\n",
    "                if total < cost_min:\n",
    "                    cost_min = total\n",
    "                    disparity = j\n",
    "\n",
    "            # Let depth at (y, x) = j (disparity)\n",
    "            # Multiply by a scale factor for visualization purpose\n",
    "            depth[y, x] = disparity * scale\n",
    "\n",
    "    if save_result == True:\n",
    "        print('Saving result...')\n",
    "        # Save results\n",
    "        cv2.imwrite(f'window_based_l1.png', depth)\n",
    "        cv2.imwrite(f'window_based_l1_color.png', cv2.applyColorMap(depth, cv2.COLORMAP_JET))\n",
    "\n",
    "    print('Done.')\n",
    "\n",
    "    return depth"
   ],
   "metadata": {
    "collapsed": false
   },
   "id": "3edc208536b19f5e"
  },
  {
   "cell_type": "code",
   "outputs": [],
   "source": [
    "def window_based_matching_l2(left_img, right_img, disparity_range, kernel_size=5, save_result=True):\n",
    "    # Read left, right images then convert to grayscale\n",
    "    left  = cv2.imread(left_img, 0)\n",
    "    right = cv2.imread(right_img, 0)\n",
    "\n",
    "    left  = left.astype(np.float32)\n",
    "    right = right.astype(np.float32)\n",
    "\n",
    "    height, width = left.shape[:2]\n",
    "\n",
    "    # Create blank disparity map\n",
    "    depth = np.zeros((height, width), np.uint8)\n",
    "\n",
    "    kernel_half = int((kernel_size - 1) / 2)\n",
    "    scale = 3\n",
    "    max_value = 255 ** 2\n",
    "\n",
    "    for y in range(kernel_half, height-kernel_half):\n",
    "        for x in range(kernel_half, width-kernel_half):\n",
    "\n",
    "            # Find j where cost has minimum value\n",
    "            disparity = 0\n",
    "            cost_min  = 65534\n",
    "\n",
    "            for j in range(disparity_range):\n",
    "                total = 0\n",
    "                value = 0\n",
    "\n",
    "                for v in range(-kernel_half, kernel_half + 1):\n",
    "                    for u in range(-kernel_half, kernel_half + 1):\n",
    "                        value = max_value\n",
    "                        if (x + u - j) >= 0:\n",
    "                            value = l2_distance(int(left[y + v, x + u]),  int(right[y + v, (x + u) - j]))\n",
    "                        total += value\n",
    "\n",
    "                if total < cost_min:\n",
    "                    cost_min = total\n",
    "                    disparity = j\n",
    "\n",
    "            # Let depth at (y, x) = j (disparity)\n",
    "            # Multiply by a scale factor for visualization purpose\n",
    "            depth[y, x] = disparity * scale\n",
    "\n",
    "    if save_result == True:\n",
    "        print('Saving result...')\n",
    "        # Save results\n",
    "        cv2.imwrite(f'window_based_l2.png', depth)\n",
    "        cv2.imwrite(f'window_based_l2_color.png', cv2.applyColorMap(depth, cv2.COLORMAP_JET))\n",
    "\n",
    "    print('Done.')\n",
    "\n",
    "    return depth"
   ],
   "metadata": {
    "collapsed": false
   },
   "id": "382c5c7c603bc4f4"
  },
  {
   "cell_type": "code",
   "outputs": [],
   "source": [
    "left_img_path = 'Aloe/Aloe_left_1.png'\n",
    "right_img_path = 'Aloe/Aloe_right_1.png'\n",
    "disparity_range = 64\n",
    "kernel_size = 3\n",
    "\n",
    "left = cv2.imread(left_img_path)\n",
    "right = cv2.imread(right_img_path)\n",
    "\n",
    "cv2_imshow(left)\n",
    "cv2_imshow(right)"
   ],
   "metadata": {
    "collapsed": false
   },
   "id": "aa18828e68715123"
  },
  {
   "cell_type": "code",
   "outputs": [],
   "source": [
    "# L1 Result\n",
    "depth = window_based_matching_l1(\n",
    "    left_img_path,\n",
    "    right_img_path,\n",
    "    disparity_range,\n",
    "    kernel_size=kernel_size,\n",
    "    save_result=True\n",
    ")\n",
    "\n",
    "cv2_imshow(depth)"
   ],
   "metadata": {
    "collapsed": false
   },
   "id": "b3f23189a010ce66"
  },
  {
   "cell_type": "code",
   "outputs": [],
   "source": [
    "# L2 Result\n",
    "depth = window_based_matching_l2(\n",
    "    left_img_path,\n",
    "    right_img_path,\n",
    "    disparity_range,\n",
    "    kernel_size=kernel_size,\n",
    "    save_result=True\n",
    ")\n",
    "\n",
    "cv2_imshow(depth)"
   ],
   "metadata": {
    "collapsed": false
   },
   "id": "4a04e519175ff172"
  }
 ],
 "metadata": {
  "kernelspec": {
   "display_name": "Python 3",
   "language": "python",
   "name": "python3"
  },
  "language_info": {
   "codemirror_mode": {
    "name": "ipython",
    "version": 2
   },
   "file_extension": ".py",
   "mimetype": "text/x-python",
   "name": "python",
   "nbconvert_exporter": "python",
   "pygments_lexer": "ipython2",
   "version": "2.7.6"
  }
 },
 "nbformat": 4,
 "nbformat_minor": 5
}
