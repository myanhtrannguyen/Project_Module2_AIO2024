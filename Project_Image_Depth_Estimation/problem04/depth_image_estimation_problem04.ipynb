{
 "cells": [
  {
   "cell_type": "markdown",
   "source": [
    "1. Cài đặt thuật toán"
   ],
   "metadata": {
    "collapsed": false
   },
   "id": "da0d5bee4bbaa4f8"
  },
  {
   "cell_type": "code",
   "outputs": [],
   "source": [
    "import cv2\n",
    "import numpy as np\n",
    "from google.colab.patches import cv2_imshow"
   ],
   "metadata": {
    "collapsed": false
   },
   "id": "bbd1eb2351b215d9"
  },
  {
   "cell_type": "code",
   "outputs": [],
   "source": [
    "def cosine_similarity(x, y):\n",
    "    numerator = np.dot(x, y)\n",
    "    denominator = np.linalg.norm(x) * np.linalg.norm(y)\n",
    "\n",
    "    return numerator / denominator"
   ],
   "metadata": {
    "collapsed": false
   },
   "id": "24b0d7929507435"
  },
  {
   "cell_type": "code",
   "outputs": [],
   "source": [
    "def window_based_matching(left_img, right_img, disparity_range, kernel_size=5, save_result=True):\n",
    "    # Read left, right images then convert to grayscale\n",
    "    left  = cv2.imread(left_img, 0)\n",
    "    right = cv2.imread(right_img, 0)\n",
    "\n",
    "    left  = left.astype(np.float32)\n",
    "    right = right.astype(np.float32)\n",
    "\n",
    "    height, width = left.shape[:2]\n",
    "\n",
    "    # Create blank disparity map\n",
    "    depth = np.zeros((height, width), np.uint8)\n",
    "    kernel_half = int((kernel_size - 1) / 2)\n",
    "    scale = 3\n",
    "\n",
    "    for y in range(kernel_half, height-kernel_half):\n",
    "        for x in range(kernel_half, width-kernel_half):\n",
    "            # Find j where cost has minimum value\n",
    "            disparity = 0\n",
    "            cost_optimal  = -1\n",
    "\n",
    "            for j in range(disparity_range):\n",
    "                d = x - j\n",
    "                cost = -1\n",
    "                if (d - kernel_half) > 0:\n",
    "                    wp = left[(y-kernel_half):(y+kernel_half)+1, (x-kernel_half):(x+kernel_half)+1]\n",
    "                    wqd = right[(y-kernel_half):(y+kernel_half)+1, (d-kernel_half):(d+kernel_half)+1]\n",
    "\n",
    "                    wp_flattened = wp.flatten()\n",
    "                    wqd_flattened = wqd.flatten()\n",
    "\n",
    "                    cost = cosine_similarity(wp_flattened, wqd_flattened)\n",
    "\n",
    "                if cost > cost_optimal:\n",
    "                    cost_optimal = cost\n",
    "                    disparity = j\n",
    "\n",
    "            # Let depth at (y, x) = j (disparity)\n",
    "            # Multiply by a scale factor for visualization purpose\n",
    "            depth[y, x] = disparity * scale\n",
    "\n",
    "    if save_result == True:\n",
    "        print('Saving result...')\n",
    "        # Save results\n",
    "        cv2.imwrite('window_based_cosine_similarity.png', depth)\n",
    "        cv2.imwrite('window_based_cosine_similarity_color.png', cv2.applyColorMap(depth, cv2.COLORMAP_JET))\n",
    "\n",
    "    print('Done.')\n",
    "\n",
    "    return depth"
   ],
   "metadata": {
    "collapsed": false
   },
   "id": "bdffce2c318c0bc5"
  },
  {
   "cell_type": "code",
   "outputs": [],
   "source": [
    "left_img_path = 'Aloe/Aloe_left_1.png'\n",
    "right_img_path = 'Aloe/Aloe_right_2.png'\n",
    "disparity_range = 64\n",
    "kernel_size = 5\n",
    "\n",
    "left = cv2.imread(left_img_path)\n",
    "right = cv2.imread(right_img_path)\n",
    "\n",
    "cv2_imshow(left)\n",
    "cv2_imshow(right)"
   ],
   "metadata": {
    "collapsed": false
   },
   "id": "11d95acd71fea79c"
  },
  {
   "cell_type": "code",
   "outputs": [],
   "source": [
    "depth = window_based_matching(\n",
    "    left_img_path,\n",
    "    right_img_path,\n",
    "    disparity_range,\n",
    "    kernel_size=kernel_size,\n",
    "    save_result=False\n",
    ")\n",
    "cv2_imshow(depth)\n",
    "cv2_imshow(cv2.applyColorMap(depth, cv2.COLORMAP_JET))"
   ],
   "metadata": {
    "collapsed": false
   },
   "id": "6cb05d1fbc50b757"
  }
 ],
 "metadata": {
  "kernelspec": {
   "display_name": "Python 3",
   "language": "python",
   "name": "python3"
  },
  "language_info": {
   "codemirror_mode": {
    "name": "ipython",
    "version": 2
   },
   "file_extension": ".py",
   "mimetype": "text/x-python",
   "name": "python",
   "nbconvert_exporter": "python",
   "pygments_lexer": "ipython2",
   "version": "2.7.6"
  }
 },
 "nbformat": 4,
 "nbformat_minor": 5
}
