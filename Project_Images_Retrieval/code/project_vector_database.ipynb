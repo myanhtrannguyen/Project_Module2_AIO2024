{
 "cells": [
  {
   "cell_type": "code",
   "execution_count": null,
   "id": "initial_id",
   "metadata": {
    "collapsed": true
   },
   "outputs": [],
   "source": [
    "import os\n",
    "import chromadb\n",
    "import numpy as np\n",
    "from tqdm import tqdm\n",
    "from PIL import Image\n",
    "import matplotlib.pyplot as plt\n",
    "from chromadb.utils.embedding_functions import OpenCLIPEmbeddingFunction"
   ]
  },
  {
   "cell_type": "markdown",
   "source": [
    "Get Data\n",
    "Tạo list các đường dẫn cho ảnh lấy embedding và được đưa vào, database\n",
    "dic_categories change to class_name"
   ],
   "metadata": {
    "collapsed": false
   },
   "id": "b19e086197dabc01"
  },
  {
   "cell_type": "code",
   "outputs": [],
   "source": [
    "ROOT = 'data'\n",
    "CLASS_NAME = sorted(list(os.listdir(f'{ROOT}/train')))\n",
    "HNSW_SPACE = \"hnsw:space\""
   ],
   "metadata": {
    "collapsed": false
   },
   "id": "3a444f5f0a605b3b"
  },
  {
   "cell_type": "code",
   "outputs": [],
   "source": [
    "def get_files_path(path):\n",
    "    files_path = []\n",
    "    for label in CLASS_NAME:\n",
    "        label_path = path + \"/\" + label\n",
    "        filenames = os.listdir(label_path)\n",
    "        for filename in filenames:\n",
    "            filepath = label_path + '/' + filename\n",
    "            files_path.append(filepath)\n",
    "    return files_path"
   ],
   "metadata": {
    "collapsed": false
   },
   "id": "d3a7d55c4cd1cc32"
  },
  {
   "cell_type": "code",
   "outputs": [],
   "source": [
    "data_path = f'{ROOT}/train'\n",
    "files_path = get_files_path(path=data_path)\n",
    "files_path"
   ],
   "metadata": {
    "collapsed": false
   },
   "id": "2be1d83c5bbd742a"
  },
  {
   "cell_type": "code",
   "outputs": [],
   "source": [
    "def plot_results(image_path, files_path, results):\n",
    "    query_image = Image.open(image_path).resize((448,448))\n",
    "    images = [query_image]\n",
    "    class_name = []\n",
    "    for id_img in results['ids'][0]:\n",
    "        id_img = int(id_img.split('_')[-1])\n",
    "        img_path = files_path[id_img]\n",
    "        img = Image.open(img_path).resize((448,448))\n",
    "        images.append(img)\n",
    "        class_name.append(img_path.split('/')[2])\n",
    "\n",
    "    fig, axes = plt.subplots(2, 3, figsize=(12, 8))\n",
    "\n",
    "    # Iterate through images and plot them\n",
    "    for i, ax in enumerate(axes.flat):\n",
    "        ax.imshow(images[i])\n",
    "        if i == 0:\n",
    "            ax.set_title(f\"Query Image: {image_path.split('/')[2]}\")\n",
    "        else:\n",
    "            ax.set_title(f\"Top {i+1}: {class_name[i-1]}\")\n",
    "        ax.axis('off')  # Hide axes\n",
    "    # Display the plot\n",
    "    plt.show()"
   ],
   "metadata": {
    "collapsed": false
   },
   "id": "17bbfc4bbc9f2c0e"
  },
  {
   "cell_type": "markdown",
   "source": [
    "Image Embedding"
   ],
   "metadata": {
    "collapsed": false
   },
   "id": "1a67cd960234615c"
  },
  {
   "cell_type": "code",
   "outputs": [],
   "source": [
    "embedding_function = OpenCLIPEmbeddingFunction()\n",
    "\n",
    "def get_single_image_embedding(image):\n",
    "    embedding = embedding_function._encode_image(image=np.array(image))\n",
    "    return embedding"
   ],
   "metadata": {
    "collapsed": false
   },
   "id": "6a6b9ad13433e27f"
  },
  {
   "cell_type": "code",
   "outputs": [],
   "source": [
    "img = Image.open('data/train/African_crocodile/n01697457_260.JPEG')\n",
    "get_single_image_embedding(image=img)"
   ],
   "metadata": {
    "collapsed": false
   },
   "id": "71830aa28cfab67d"
  },
  {
   "cell_type": "markdown",
   "source": [
    "Chromadb L2 Embedding Collection\n",
    "Tạo embedding collection từ các đường dẫn file ảnh data ở bước trên"
   ],
   "metadata": {
    "collapsed": false
   },
   "id": "825333c71cf8f461"
  },
  {
   "cell_type": "code",
   "outputs": [],
   "source": [
    "def add_embedding(collection, files_path):\n",
    "    ids = []\n",
    "    embeddings = []\n",
    "    for id_filepath, filepath in tqdm(enumerate(files_path)):\n",
    "        ids.append(f'id_{id_filepath}')\n",
    "        image = Image.open(filepath)\n",
    "        embedding = get_single_image_embedding(image=image)\n",
    "        embeddings.append(embedding)\n",
    "    collection.add(\n",
    "        embeddings=embeddings,\n",
    "        ids=ids\n",
    "    )"
   ],
   "metadata": {
    "collapsed": false
   },
   "id": "9d02cf36408bf855"
  },
  {
   "cell_type": "code",
   "outputs": [],
   "source": [
    "# Create a Chroma Client\n",
    "chroma_client = chromadb.Client()\n",
    "# Create a collection\n",
    "l2_collection = chroma_client.get_or_create_collection(name=\"l2_collection\",\n",
    "                                                           metadata={HNSW_SPACE: \"l2\"})\n",
    "add_embedding(collection=l2_collection, files_path=files_path)"
   ],
   "metadata": {
    "collapsed": false
   },
   "id": "5305046aa6422238"
  },
  {
   "cell_type": "markdown",
   "source": [
    "Search Image With L2 Collection"
   ],
   "metadata": {
    "collapsed": false
   },
   "id": "6df0f4552fce68d9"
  },
  {
   "cell_type": "code",
   "outputs": [],
   "source": [
    "def search(image_path, collection, n_results):\n",
    "    query_image = Image.open(image_path)\n",
    "    query_embedding = get_single_image_embedding(query_image)\n",
    "    results = collection.query(\n",
    "        query_embeddings=[query_embedding],\n",
    "        n_results=n_results # how many results to return\n",
    "    )\n",
    "    return results"
   ],
   "metadata": {
    "collapsed": false
   },
   "id": "ff3cf2fe0c52b81a"
  },
  {
   "cell_type": "code",
   "outputs": [],
   "source": [
    "test_path = f'{ROOT}/test'\n",
    "test_files_path = get_files_path(path=test_path)\n",
    "test_path = test_files_path[1]\n",
    "l2_results = search(image_path=test_path, collection=l2_collection, n_results=5)"
   ],
   "metadata": {
    "collapsed": false
   },
   "id": "3599bf9c569689d2"
  },
  {
   "cell_type": "code",
   "outputs": [],
   "source": [
    "l2_results"
   ],
   "metadata": {
    "collapsed": false
   },
   "id": "61945d34e55bdbc3"
  },
  {
   "cell_type": "code",
   "outputs": [],
   "source": [
    "plot_results(image_path=test_path, files_path=files_path, results=l2_results)"
   ],
   "metadata": {
    "collapsed": false
   },
   "id": "81713673a79e0bac"
  },
  {
   "cell_type": "markdown",
   "source": [
    "Search Image With Cosine similarity Collection"
   ],
   "metadata": {
    "collapsed": false
   },
   "id": "5529818c6ce17206"
  },
  {
   "cell_type": "code",
   "outputs": [],
   "source": [
    "# Create a collection\n",
    "cosine_collection = chroma_client.get_or_create_collection(name=\"Cosine_collection\",\n",
    "                                                           metadata={HNSW_SPACE: \"cosine\"})\n",
    "add_embedding(collection=cosine_collection, files_path=files_path)"
   ],
   "metadata": {
    "collapsed": false
   },
   "id": "9f1319098ac15105"
  },
  {
   "cell_type": "code",
   "outputs": [],
   "source": [
    "test_path = f'{ROOT}/test'\n",
    "test_files_path = get_files_path(path=test_path)\n",
    "test_path = test_files_path[1]\n",
    "cosine_results = search(image_path=test_path, collection=cosine_collection, n_results=5)"
   ],
   "metadata": {
    "collapsed": false
   },
   "id": "f81bdf7831c7a4fa"
  },
  {
   "cell_type": "code",
   "outputs": [],
   "source": [
    "cosine_results"
   ],
   "metadata": {
    "collapsed": false
   },
   "id": "c2a290ac29af7fe4"
  },
  {
   "cell_type": "code",
   "outputs": [],
   "source": [
    "plot_results(image_path=test_path, files_path=files_path, results=cosine_results)"
   ],
   "metadata": {
    "collapsed": false
   },
   "id": "a59e6706b9725536"
  }
 ],
 "metadata": {
  "kernelspec": {
   "display_name": "Python 3",
   "language": "python",
   "name": "python3"
  },
  "language_info": {
   "codemirror_mode": {
    "name": "ipython",
    "version": 2
   },
   "file_extension": ".py",
   "mimetype": "text/x-python",
   "name": "python",
   "nbconvert_exporter": "python",
   "pygments_lexer": "ipython2",
   "version": "2.7.6"
  }
 },
 "nbformat": 4,
 "nbformat_minor": 5
}
