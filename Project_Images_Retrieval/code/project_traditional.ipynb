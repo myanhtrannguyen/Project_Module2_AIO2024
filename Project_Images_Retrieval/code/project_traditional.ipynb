{
 "cells": [
  {
   "cell_type": "code",
   "execution_count": 2,
   "id": "initial_id",
   "metadata": {
    "collapsed": true,
    "ExecuteTime": {
     "end_time": "2024-08-06T11:22:23.927852Z",
     "start_time": "2024-08-06T11:22:23.844168Z"
    }
   },
   "outputs": [
    {
     "name": "stdout",
     "output_type": "stream",
     "text": [
      "Mean:  1.8\n"
     ]
    }
   ],
   "source": [
    "import numpy as np\n",
    "def compute_mean(X):\n",
    "    mean = sum(i for i in X) / len(X)\n",
    "    return mean\n",
    "X = [2, 0, 2, 2, 7, 4, -2, 5, -1, -1]\n",
    "print(\"Mean: \", compute_mean(X))"
   ]
  },
  {
   "cell_type": "code",
   "outputs": [
    {
     "name": "stdout",
     "output_type": "stream",
     "text": [
      "[ 1  4  4  5  9 13]\n",
      "Median:  4.5\n"
     ]
    }
   ],
   "source": [
    " def compute_median(X):\n",
    "    size = len(X)\n",
    "    X = np.sort(X)\n",
    "    print(X)\n",
    "    if size % 2 == 0:\n",
    "        median = (X[int((size / 2) - 1)] + X[int(size / 2)]) * 0.5\n",
    "        return median\n",
    "    else:\n",
    "        median = X[int(((size + 1) / 2) - 1)]\n",
    "        return median\n",
    "X = [1, 5, 4, 4, 9, 13]\n",
    "print(\"Median: \", compute_median(X))"
   ],
   "metadata": {
    "collapsed": false,
    "ExecuteTime": {
     "end_time": "2024-08-06T11:22:23.936397Z",
     "start_time": "2024-08-06T11:22:23.930851Z"
    }
   },
   "id": "420a3e01bf11d415",
   "execution_count": 3
  },
  {
   "cell_type": "code",
   "outputs": [
    {
     "name": "stdout",
     "output_type": "stream",
     "text": [
      "8.32666399786453\n"
     ]
    }
   ],
   "source": [
    "def compute_std(X):\n",
    "    mean = compute_mean(X)\n",
    "    total = 0\n",
    "    for i in X:\n",
    "        total += (i - mean) ** 2\n",
    "    variance = total/len(X)\n",
    "    std = variance ** 0.5\n",
    "    return std\n",
    "X = [171, 176, 155, 167, 169, 182]\n",
    "print(compute_std(X))"
   ],
   "metadata": {
    "collapsed": false,
    "ExecuteTime": {
     "end_time": "2024-08-06T11:23:30.094842Z",
     "start_time": "2024-08-06T11:23:30.090183Z"
    }
   },
   "id": "eb26a46ab074d620",
   "execution_count": 7
  },
  {
   "cell_type": "code",
   "outputs": [
    {
     "name": "stdout",
     "output_type": "stream",
     "text": [
      "Correlation:  0.42\n"
     ]
    }
   ],
   "source": [
    "def compute_correlation_coefficient (X, Y):\n",
    "    N = len(X)\n",
    "    sum_x_y = int(sum(X[i] * Y[i] for i in range(N)))\n",
    "    sum_x = sum(X)\n",
    "    sum_y = sum(Y)\n",
    "    numerator = N * sum_x_y - sum_y * sum_x\n",
    "    sum_xx = sum(X[i] ** 2 for i in range(N))\n",
    "    sum_yy = sum(Y[i] ** 2 for i in range(N))\n",
    "    denominator_1 = ((N * sum_xx) - sum_x ** 2) ** 0.5\n",
    "    denominator_2 = ((N * sum_yy) - sum_y ** 2) ** 0.5\n",
    "    denominator = denominator_1 * denominator_2\n",
    "    correlation_coefficient = numerator / denominator\n",
    "    return round(correlation_coefficient, 2)\n",
    "X = np.asarray([-2, -5, -11, 6, 4, 15, 9])\n",
    "Y = np.asarray([4, 25, 121, 36, 16, 225, 81])\n",
    "print(\"Correlation: \", compute_correlation_coefficient(X, Y))"
   ],
   "metadata": {
    "collapsed": false,
    "ExecuteTime": {
     "end_time": "2024-08-06T14:57:30.614968Z",
     "start_time": "2024-08-06T14:57:30.604026Z"
    }
   },
   "id": "2df56ebf7e03a510",
   "execution_count": 15
  }
 ],
 "metadata": {
  "kernelspec": {
   "display_name": "Python 3",
   "language": "python",
   "name": "python3"
  },
  "language_info": {
   "codemirror_mode": {
    "name": "ipython",
    "version": 2
   },
   "file_extension": ".py",
   "mimetype": "text/x-python",
   "name": "python",
   "nbconvert_exporter": "python",
   "pygments_lexer": "ipython2",
   "version": "2.7.6"
  }
 },
 "nbformat": 4,
 "nbformat_minor": 5
}
